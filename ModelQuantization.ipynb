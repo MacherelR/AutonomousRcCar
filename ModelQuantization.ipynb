{
  "nbformat": 4,
  "nbformat_minor": 0,
  "metadata": {
    "colab": {
      "name": "ModelQuantization.ipynb",
      "provenance": [],
      "authorship_tag": "ABX9TyNlLMhRNXxz2h2waZ8L+S5x",
      "include_colab_link": true
    },
    "kernelspec": {
      "name": "python3",
      "display_name": "Python 3"
    },
    "language_info": {
      "name": "python"
    }
  },
  "cells": [
    {
      "cell_type": "markdown",
      "metadata": {
        "id": "view-in-github",
        "colab_type": "text"
      },
      "source": [
        "<a href=\"https://colab.research.google.com/github/MacherelR/AutonomousRcCar/blob/main/ModelQuantization.ipynb\" target=\"_parent\"><img src=\"https://colab.research.google.com/assets/colab-badge.svg\" alt=\"Open In Colab\"/></a>"
      ]
    },
    {
      "cell_type": "code",
      "metadata": {
        "colab": {
          "base_uri": "https://localhost:8080/"
        },
        "id": "3_m0m22wjb7l",
        "outputId": "45c9a16f-f055-47fa-dbb8-cc531ec334e2"
      },
      "source": [
        "from google.colab import drive\n",
        "drive.mount('/content/gdrive')\n",
        "model_output_dir = '/content/gdrive/My Drive/Colab Notebooks/LaneNavigation'\n",
        "\n",
        "import sys\n",
        "sys.path.insert(0,'/content/gdrive/MyDrive/Colab Notebooks')"
      ],
      "execution_count": 1,
      "outputs": [
        {
          "output_type": "stream",
          "text": [
            "Mounted at /content/gdrive\n"
          ],
          "name": "stdout"
        }
      ]
    },
    {
      "cell_type": "code",
      "metadata": {
        "colab": {
          "base_uri": "https://localhost:8080/"
        },
        "id": "qPmr0tv8jk-R",
        "outputId": "1d7f3c38-347b-4ef7-e833-6f1c6c43ca7c"
      },
      "source": [
        "# python standard libraries\n",
        "import os\n",
        "import random\n",
        "import fnmatch\n",
        "import datetime\n",
        "import pickle\n",
        "\n",
        "# data processing\n",
        "import numpy as np\n",
        "np.set_printoptions(formatter={'float_kind':lambda x: \"%.4f\" % x})\n",
        "\n",
        "import pandas as pd\n",
        "pd.set_option('display.width', 300)\n",
        "pd.set_option('display.float_format', '{:,.4f}'.format)\n",
        "pd.set_option('display.max_colwidth', 200)\n",
        "\n",
        "# tensorflow\n",
        "import tensorflow as tf\n",
        "import keras\n",
        "from keras.models import Sequential  # V2 is tensorflow.keras.xxxx, V1 is keras.xxx\n",
        "from keras.layers import Conv2D, MaxPool2D, Dropout, Flatten, Dense\n",
        "from keras.optimizers import Adam\n",
        "from keras.models import load_model\n",
        "\n",
        "print( f'tf.__version__: {tf.__version__}' )\n",
        "print( f'keras.__version__: {keras.__version__}' )\n",
        "\n",
        "# sklearn\n",
        "from sklearn.utils import shuffle\n",
        "from sklearn.model_selection import train_test_split\n",
        "\n",
        "# imaging\n",
        "import cv2\n",
        "from imgaug import augmenters as img_aug\n",
        "import matplotlib.pyplot as plt\n",
        "import matplotlib.image as mpimg\n",
        "%matplotlib inline\n",
        "from PIL import Image\n",
        "\n",
        "\n",
        "\n",
        "import csv\n",
        "\n",
        "import ML_Lib"
      ],
      "execution_count": 2,
      "outputs": [
        {
          "output_type": "stream",
          "text": [
            "tf.__version__: 2.5.0\n",
            "keras.__version__: 2.5.0\n"
          ],
          "name": "stdout"
        }
      ]
    },
    {
      "cell_type": "code",
      "metadata": {
        "colab": {
          "base_uri": "https://localhost:8080/"
        },
        "id": "ngiiuyzpjuY1",
        "outputId": "7b9c0336-d385-49d2-bbed-5898a127bfbe"
      },
      "source": [
        "!cd /content\n",
        "if not os.path.isdir(\"AutonomousRcCar\"):\n",
        "  !git clone https://github.com/MacherelR/AutonomousRcCar\n",
        "!ls\n",
        "\n",
        "dataDirectory = '/content/AutonomousRcCar/Datas/DataCollection' # DataCollection\n",
        "steeringList,img_path,namesList = ML_Lib.readFiles(dataDirectory)\n",
        "df = pd.DataFrame()\n",
        "df['ImagePath'] = img_path\n",
        "df['Angle'] = steeringList\n"
      ],
      "execution_count": 3,
      "outputs": [
        {
          "output_type": "stream",
          "text": [
            "Cloning into 'AutonomousRcCar'...\n",
            "remote: Enumerating objects: 7383, done.\u001b[K\n",
            "remote: Counting objects: 100% (272/272), done.\u001b[K\n",
            "remote: Compressing objects: 100% (269/269), done.\u001b[K\n",
            "remote: Total 7383 (delta 4), reused 269 (delta 3), pack-reused 7111\u001b[K\n",
            "Receiving objects: 100% (7383/7383), 775.61 MiB | 31.02 MiB/s, done.\n",
            "Resolving deltas: 100% (285/285), done.\n",
            "Checking out files: 100% (7973/7973), done.\n",
            "AutonomousRcCar  gdrive  sample_data\n"
          ],
          "name": "stdout"
        }
      ]
    },
    {
      "cell_type": "code",
      "metadata": {
        "id": "uJEBEIYKjyT2"
      },
      "source": [
        " model = load_model(f'{model_output_dir}/lane_navigation_TestlrDown.h5')"
      ],
      "execution_count": 4,
      "outputs": []
    },
    {
      "cell_type": "markdown",
      "metadata": {
        "id": "p8TJVTj8rMeK"
      },
      "source": [
        "**Quantification de la plage dynamique**"
      ]
    },
    {
      "cell_type": "code",
      "metadata": {
        "id": "0KLAI3RfrJGC"
      },
      "source": [
        "newDir = '/content/gdrive/My Drive/Colab Notebooks/Models/'\n",
        "# Convert the model.\n",
        "converter = tf.lite.TFLiteConverter.from_keras_model(model)\n",
        "\n",
        "converter.optimizations = [tf.lite.Optimize.DEFAULT]\n",
        "\n",
        "tflite_model = converter.convert()\n",
        "\n",
        "# Save the model.\n",
        "with open(f'{newDir}/modelConvertedQT3.tflite', 'wb') as f:\n",
        "  f.write(tflite_model)"
      ],
      "execution_count": null,
      "outputs": []
    },
    {
      "cell_type": "markdown",
      "metadata": {
        "id": "miY_wSryrE5u"
      },
      "source": [
        "**Quantification entier-entier**"
      ]
    },
    {
      "cell_type": "code",
      "metadata": {
        "id": "oC1iXRk2kJj0"
      },
      "source": [
        "def representativeGen():\n",
        "  for i in range(150):\n",
        "    randomIdx = random.randint(0,len(img_path)-1)\n",
        "    imgPath = img_path[randomIdx]\n",
        "    image = ML_Lib.imreadModif(imgPath)\n",
        "    steer = steeringList[randomIdx]\n",
        "    preprocessed = ML_Lib.ImagePreprocess(image)\n",
        "    input_data = np.expand_dims(np.float32(preprocessed), axis=0)\n",
        "    yield [input_data]"
      ],
      "execution_count": 11,
      "outputs": []
    },
    {
      "cell_type": "code",
      "metadata": {
        "id": "13V6oLoGlwKm"
      },
      "source": [
        "newDir = '/content/gdrive/My Drive/Colab Notebooks/QuantizationIntInt'"
      ],
      "execution_count": 14,
      "outputs": []
    },
    {
      "cell_type": "code",
      "metadata": {
        "colab": {
          "base_uri": "https://localhost:8080/"
        },
        "id": "nmh9YSL1lbOV",
        "outputId": "1382aaef-a144-4296-94d8-a5f65959b611"
      },
      "source": [
        "converter = tf.lite.TFLiteConverter.from_keras_model(model)\n",
        "\n",
        "converter.optimizations = [tf.lite.Optimize.DEFAULT]\n",
        "converter.target_ops = [tf.lite.OpsSet.TFLITE_BUILTINS_INT8]\n",
        "converter.inference_input_type = tf.int8\n",
        "converter.inference_output_type = tf.int8\n",
        "converter.representative_dataset = representativeGen\n",
        "\n",
        "tflite_model = converter.convert()\n",
        "\n",
        "# Save the model.\n",
        "with open(f'{newDir}/modelConvertedQT.tflite', 'wb') as f:\n",
        "  f.write(tflite_model)"
      ],
      "execution_count": 15,
      "outputs": [
        {
          "output_type": "stream",
          "text": [
            "INFO:tensorflow:Assets written to: /tmp/tmph_a9dvpc/assets\n"
          ],
          "name": "stdout"
        },
        {
          "output_type": "stream",
          "text": [
            "INFO:tensorflow:Assets written to: /tmp/tmph_a9dvpc/assets\n",
            "WARNING:absl:For model inputs containing unsupported operations which cannot be quantized, the `inference_input_type` attribute will default to the original type.\n",
            "WARNING:absl:For model outputs containing unsupported operations which cannot be quantized, the `inference_output_type` attribute will default to the original type.\n"
          ],
          "name": "stderr"
        }
      ]
    },
    {
      "cell_type": "markdown",
      "metadata": {
        "id": "saTQ32uurUng"
      },
      "source": [
        "**Comparaison de tailles**"
      ]
    },
    {
      "cell_type": "code",
      "metadata": {
        "colab": {
          "base_uri": "https://localhost:8080/"
        },
        "id": "z_RsJRj3nwof",
        "outputId": "9fcab041-51b3-4e50-b4c6-fba78d35bd84"
      },
      "source": [
        "DynIntModelPath = '/content/gdrive/My Drive/Colab Notebooks/Models/modelConvertedQT2lrDown.tflite'\n",
        "IntIntModelPath = f'{newDir}/modelConvertedQT.tflite'\n",
        "\n",
        "print(\"Dynamically quantized model in Mb:\", os.path.getsize(DynIntModelPath) / float(2**20))\n",
        "print(\"Int Int Quantized model in Mb:\", os.path.getsize(IntIntModelPath) / float(2**20))\n",
        "print(\"Compression ratio:\", os.path.getsize(DynIntModelPath)/os.path.getsize(IntIntModelPath))"
      ],
      "execution_count": 17,
      "outputs": [
        {
          "output_type": "stream",
          "text": [
            "Dynamically quantized model in Mb: 0.25421142578125\n",
            "Int Int Quantized model in Mb: 0.25609588623046875\n",
            "Compression ratio: 0.9926415825066285\n"
          ],
          "name": "stdout"
        }
      ]
    }
  ]
}